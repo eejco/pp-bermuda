{
 "cells": [
  {
   "cell_type": "code",
   "execution_count": 1,
   "id": "abc76049",
   "metadata": {},
   "outputs": [
    {
     "data": {
      "text/html": [
       "<p>To authorize access needed by Earth Engine, open the following\n",
       "        URL in a web browser and follow the instructions:</p>\n",
       "        <p><a href=https://accounts.google.com/o/oauth2/auth?client_id=517222506229-vsmmajv00ul0bs7p89v5m89qs8eb9359.apps.googleusercontent.com&scope=https%3A%2F%2Fwww.googleapis.com%2Fauth%2Fearthengine+https%3A%2F%2Fwww.googleapis.com%2Fauth%2Fdevstorage.full_control&redirect_uri=urn%3Aietf%3Awg%3Aoauth%3A2.0%3Aoob&response_type=code&code_challenge=ynbWLWBQ0SKkqTOymNvx-lL0dEBq3FihPw3nZi7tU_k&code_challenge_method=S256>https://accounts.google.com/o/oauth2/auth?client_id=517222506229-vsmmajv00ul0bs7p89v5m89qs8eb9359.apps.googleusercontent.com&scope=https%3A%2F%2Fwww.googleapis.com%2Fauth%2Fearthengine+https%3A%2F%2Fwww.googleapis.com%2Fauth%2Fdevstorage.full_control&redirect_uri=urn%3Aietf%3Awg%3Aoauth%3A2.0%3Aoob&response_type=code&code_challenge=ynbWLWBQ0SKkqTOymNvx-lL0dEBq3FihPw3nZi7tU_k&code_challenge_method=S256</a></p>\n",
       "        <p>The authorization workflow will generate a code, which you\n",
       "        should paste in the box below</p>\n",
       "        "
      ],
      "text/plain": [
       "<IPython.core.display.HTML object>"
      ]
     },
     "metadata": {},
     "output_type": "display_data"
    },
    {
     "name": "stdout",
     "output_type": "stream",
     "text": [
      "Enter verification code: 4/1AX4XfWgo6tfasv2uWeMTdVoZ1zu5BqGIYMlPQCJnZNCQgjxBdDns_AwKjSs\n",
      "\n",
      "Successfully saved authorization token.\n"
     ]
    }
   ],
   "source": [
    "import ee\n",
    "import pandas as pd\n",
    "import numpy as np\n",
    "import xarray as xr\n",
    "import matplotlib.pyplot as plt\n",
    "\n",
    "# Trigger the authentication flow.\n",
    "ee.Authenticate()\n",
    "\n",
    "# Initialize the library.\n",
    "ee.Initialize()"
   ]
  },
  {
   "cell_type": "code",
   "execution_count": 31,
   "id": "71d17d35",
   "metadata": {},
   "outputs": [],
   "source": [
    "# Define lon and lat of interest\n",
    "lon0 = -4.36666667\n",
    "lat0 = 50.03333333\n",
    "\n",
    "# Define time window of interest\n",
    "start_date = '2013-01-01'\n",
    "end_date = '2014-01-01'\n",
    "\n",
    "# Define scale (?)\n",
    "scale = 1000 # what is this???????\n",
    "\n",
    "# Get image collections for modis and landsat\n",
    "def get_data(name,lon,lat):\n",
    "    # Extract image collection\n",
    "    cntr = ee.Geometry.Point(lon,lat)\n",
    "    ic = ee.ImageCollection(name).filterDate(start_date,end_date)\n",
    "    # Turn into array\n",
    "    info = ic.getRegion(cntr,scale).getInfo()\n",
    "    # Turn into dataframe\n",
    "    header = info[0]\n",
    "    data = info[1:]\n",
    "    df = pd.DataFrame(data,columns=header)\n",
    "    # Convert time to datetime\n",
    "    df.time = pd.to_datetime(df.time, unit='ms')\n",
    "    return df\n",
    "\n",
    "df_modis = get_data('NASA/OCEANDATA/MODIS-Aqua/L3SMI',lon0,lat0)"
   ]
  },
  {
   "cell_type": "code",
   "execution_count": 32,
   "id": "3cc8ae3c",
   "metadata": {},
   "outputs": [],
   "source": [
    "datapath = 'C:/Users/eeaaas/Downloads/western_channel_observatory_'\n",
    "E1_T = pd.read_csv(datapath+'e1_ctd_temperature_and_satellite.csv',header=958)\n",
    "E1_S = pd.read_csv(datapath+'e1_ctd_salinity.csv',header=764)"
   ]
  },
  {
   "cell_type": "code",
   "execution_count": 33,
   "id": "d0f66415",
   "metadata": {},
   "outputs": [],
   "source": [
    "E1_T.columns=['Date','Temp0m','Temp10m','Temp20m','Temp30m','Temp40m','Temp50m','Temp60m','Temp70m','Temp80m','-']\n",
    "E1_S.columns=['Date','Sal0m','Sal10m','Sal20m','Sal30m','Sal40m','Sal50m','Sal60m','Sal70m','Sal80m','-']"
   ]
  },
  {
   "cell_type": "code",
   "execution_count": 34,
   "id": "03ee3f5a",
   "metadata": {},
   "outputs": [],
   "source": [
    "from datetime import datetime\n",
    "\n",
    "dates = ['Jan 23 2013 12:00PM','Feb 12 2013 12:00PM','Feb 27 2013 12:00PM','Mar 20 2013 12:00PM','Apr 23 2013 12:00PM', 'May 1 2013 12:00PM','May 16 2013 12:00PM','Jun 4 2013 12:00PM','Jun 18 2013 12:00PM','Jul 2 2013 12:00PM','Jul 16 2013 12:00PM','Aug 7 2013 12:00PM','Aug 20 2013 12:00PM','Sep 3 2013 12:00PM','Sep 24 2013 12:00PM','Oct 15 2013 12:00PM','Nov 12 2013 12:00PM','Nov 26 2013 12:00PM']\n",
    "datetime_objects = []\n",
    "timestamps = []\n",
    "for d in dates:\n",
    "    datetime_objects.append(datetime.strptime(d, '%b %d %Y %I:%M%p'))\n",
    "    \n",
    "for i in datetime_objects:\n",
    "    timestamps.append(datetime.timestamp(i))"
   ]
  },
  {
   "cell_type": "code",
   "execution_count": 35,
   "id": "b7700c8e",
   "metadata": {},
   "outputs": [],
   "source": [
    "timestamp_array = []\n",
    "for i in timestamps:\n",
    "    timestamp_array.append((int(i)))"
   ]
  },
  {
   "cell_type": "code",
   "execution_count": 36,
   "id": "f0858154",
   "metadata": {},
   "outputs": [],
   "source": [
    "dts = []\n",
    "for i in timestamp_array:\n",
    "    dts.append(datetime.fromtimestamp(i))"
   ]
  },
  {
   "cell_type": "code",
   "execution_count": 38,
   "id": "054291a4",
   "metadata": {
    "scrolled": true
   },
   "outputs": [
    {
     "data": {
      "text/plain": [
       "[Text(0, 0.5, 'SST')]"
      ]
     },
     "execution_count": 38,
     "metadata": {},
     "output_type": "execute_result"
    },
    {
     "data": {
      "image/png": "[encoded data removed]",
      "text/plain": [
       "<Figure size 1152x288 with 2 Axes>"
      ]
     },
     "metadata": {
      "needs_background": "light"
     },
     "output_type": "display_data"
    }
   ],
   "source": [
    "x=df_modis['time']\n",
    "y1=df_modis['chlor_a']\n",
    "\n",
    "fig, ax1 = plt.subplots(1,1,figsize=(16,4))\n",
    "ax2 = ax1.twinx()\n",
    "ax1.scatter(x, y1, c='g', marker='x')\n",
    "ax2.scatter(dts,E1_T.Temp0m[46:64],c='r',marker='x')\n",
    "ax1.set(ylabel='Chl a')\n",
    "ax2.set(ylabel='SST')\n"
   ]
  },
  {
   "cell_type": "code",
   "execution_count": 10,
   "id": "328dca29",
   "metadata": {},
   "outputs": [],
   "source": [
    "E1_Nut = pd.read_csv('C:/Users/eeaaas/Downloads/e1_nutrients.csv',header=1353)\n",
    "E1_Nut.columns = ['E1','Date','Depth','Nitrite','Nit+Nat','Ammonia','Silicate','Phosphate','-','-','-']"
   ]
  },
  {
   "cell_type": "code",
   "execution_count": 12,
   "id": "19638b34",
   "metadata": {},
   "outputs": [],
   "source": [
    "E1_Nut['Nitrite'][E1_Nut['Depth']==0][120]\n",
    "\n",
    "np.arange(0,108,6)\n",
    "\n",
    "E1_Nuts = []\n",
    "for i in np.arange(0,108,6):\n",
    "    E1_Nuts.append((E1_Nut['Nit+Nat'][E1_Nut['Depth']==0]+E1_Nut.Ammonia[E1_Nut['Depth']==0]+E1_Nut.Silicate[E1_Nut['Depth']==0]+E1_Nut.Phosphate[E1_Nut['Depth']==0])[i])\n",
    "\n",
    "\n",
    "#18 numbers"
   ]
  },
  {
   "cell_type": "code",
   "execution_count": 13,
   "id": "809fffc1",
   "metadata": {},
   "outputs": [
    {
     "data": {
      "text/plain": [
       "[Text(0, 0.5, 'Nutrients (um)')]"
      ]
     },
     "execution_count": 13,
     "metadata": {},
     "output_type": "execute_result"
    },
    {
     "data": {
      "image/png": "[encoded data removed]",
      "text/plain": [
       "<Figure size 1152x288 with 2 Axes>"
      ]
     },
     "metadata": {
      "needs_background": "light"
     },
     "output_type": "display_data"
    }
   ],
   "source": [
    "x=df_modis['time']\n",
    "y1=df_modis['chlor_a']\n",
    "\n",
    "fig, ax1 = plt.subplots(1,1,figsize=(16,4))\n",
    "ax2 = ax1.twinx()\n",
    "ax1.scatter(x, y1, c='g', marker='x')\n",
    "ax2.scatter(dts,E1_Nuts,c='r',marker='x')\n",
    "ax1.set(ylabel='Chl a')\n",
    "ax2.set(ylabel='Nutrients (um)')"
   ]
  },
  {
   "cell_type": "code",
   "execution_count": null,
   "id": "96d6d89e",
   "metadata": {},
   "outputs": [],
   "source": [
    "###KALMAN FILTER"
   ]
  },
  {
   "cell_type": "code",
   "execution_count": 14,
   "id": "be22b222",
   "metadata": {},
   "outputs": [],
   "source": [
    "# Define lon and lat of interest\n",
    "lon0 = -4.36666667\n",
    "lat0 = 50.03333333\n",
    "\n",
    "# Define time window of interest\n",
    "start_date = '2018-01-01'\n",
    "end_date = '2019-01-01'\n",
    "\n",
    "# Define scale (?)\n",
    "scale = 1000 # what is this???????\n",
    "\n",
    "# Get image collections for modis and landsat\n",
    "def get_data(name,lon,lat):\n",
    "    # Extract image collection\n",
    "    cntr = ee.Geometry.Point(lon,lat)\n",
    "    ic = ee.ImageCollection(name).filterDate(start_date,end_date)\n",
    "    # Turn into array\n",
    "    info = ic.getRegion(cntr,scale).getInfo()\n",
    "    # Turn into dataframe\n",
    "    header = info[0]\n",
    "    data = info[1:]\n",
    "    df = pd.DataFrame(data,columns=header)\n",
    "    # Convert time to datetime\n",
    "    df.time = pd.to_datetime(df.time, unit='ms')\n",
    "    return df\n",
    "\n",
    "df_modis = get_data('NASA/OCEANDATA/MODIS-Aqua/L3SMI',lon0,lat0)"
   ]
  },
  {
   "cell_type": "code",
   "execution_count": 17,
   "id": "6c06e488",
   "metadata": {},
   "outputs": [],
   "source": [
    "datapath = 'C:/Users/eeaaas/Downloads/western_channel_observatory_'\n",
    "E1_T = pd.read_csv(datapath+'e1_ctd_temperature_and_satellite.csv',header=1095)\n",
    "E1_S = pd.read_csv(datapath+'e1_ctd_salinity.csv',header=901)"
   ]
  },
  {
   "cell_type": "code",
   "execution_count": 18,
   "id": "a43102d4",
   "metadata": {},
   "outputs": [],
   "source": [
    "E1_T.columns=['Date','Temp0m','Temp10m','Temp20m','Temp30m','Temp40m','Temp50m','Temp60m','Temp70m','Temp80m','-']\n",
    "E1_S.columns=['Date','Sal0m','Sal10m','Sal20m','Sal30m','Sal40m','Sal50m','Sal60m','Sal70m','Sal80m','-']"
   ]
  },
  {
   "cell_type": "code",
   "execution_count": 19,
   "id": "f6e75456",
   "metadata": {},
   "outputs": [],
   "source": [
    "from datetime import datetime\n",
    "\n",
    "dates = ['Jan 10 2018 12:00PM','Feb 2 2018 12:00PM','Mar 6 2018 12:00PM','Apr 9 2018 12:00PM','Apr 24 2018 12:00PM', 'May 23 2018 12:00PM','Jun 5 2018 12:00PM','Jun 19 2018 12:00PM','Jul 3 2018 12:00PM','Jul 24 2018 12:00PM','Aug 7 2018 12:00PM','Aug 21 2018 12:00PM','Sep 4 2018 12:00PM','Sep 25 2018 12:00PM','Oct 9 2018 12:00PM','Oct 23 2018 12:00PM','Dec 4 2018 12:00PM']\n",
    "datetime_objects = []\n",
    "timestamps = []\n",
    "for d in dates:\n",
    "    datetime_objects.append(datetime.strptime(d, '%b %d %Y %I:%M%p'))\n",
    "    \n",
    "for i in datetime_objects:\n",
    "    timestamps.append(datetime.timestamp(i))"
   ]
  },
  {
   "cell_type": "code",
   "execution_count": 20,
   "id": "55e4ffe8",
   "metadata": {},
   "outputs": [],
   "source": [
    "timestamp_array = []\n",
    "for i in timestamps:\n",
    "    timestamp_array.append((int(i)))"
   ]
  },
  {
   "cell_type": "code",
   "execution_count": 21,
   "id": "1f3b82d0",
   "metadata": {},
   "outputs": [],
   "source": [
    "dts = []\n",
    "for i in timestamp_array:\n",
    "    dts.append(datetime.fromtimestamp(i))"
   ]
  },
  {
   "cell_type": "code",
   "execution_count": 25,
   "id": "c72491f9",
   "metadata": {},
   "outputs": [
    {
     "data": {
      "text/plain": [
       "[Text(0, 0.5, 'SST')]"
      ]
     },
     "execution_count": 25,
     "metadata": {},
     "output_type": "execute_result"
    },
    {
     "data": {
      "image/png": "[encoded data removed]",
      "text/plain": [
       "<Figure size 1152x288 with 2 Axes>"
      ]
     },
     "metadata": {
      "needs_background": "light"
     },
     "output_type": "display_data"
    }
   ],
   "source": [
    "x=df_modis['time']\n",
    "y1=df_modis['chlor_a']\n",
    "\n",
    "fig, ax1 = plt.subplots(1,1,figsize=(16,4))\n",
    "ax2 = ax1.twinx()\n",
    "ax1.scatter(x, y1, c='g', marker='x')\n",
    "ax2.scatter(dts,E1_T.Temp0m[:17],c='r',marker='x')\n",
    "ax1.set(ylabel='Chl a')\n",
    "ax2.set(ylabel='SST')\n"
   ]
  },
  {
   "cell_type": "code",
   "execution_count": 26,
   "id": "55d1c7f4",
   "metadata": {},
   "outputs": [
    {
     "data": {
      "text/plain": [
       "[Text(0, 0.5, 'SSS')]"
      ]
     },
     "execution_count": 26,
     "metadata": {},
     "output_type": "execute_result"
    },
    {
     "data": {
      "image/png": "[encoded data removed]",
      "text/plain": [
       "<Figure size 1152x288 with 2 Axes>"
      ]
     },
     "metadata": {
      "needs_background": "light"
     },
     "output_type": "display_data"
    }
   ],
   "source": [
    "x=df_modis['time']\n",
    "y1=df_modis['chlor_a']\n",
    "\n",
    "fig, ax1 = plt.subplots(1,1,figsize=(16,4))\n",
    "ax2 = ax1.twinx()\n",
    "ax1.scatter(x, y1, c='g', marker='x')\n",
    "ax2.scatter(dts,E1_S.Sal0m[:17],c='r',marker='x')\n",
    "ax1.set(ylabel='Chl a')\n",
    "ax2.set(ylabel='SSS')"
   ]
  },
  {
   "cell_type": "code",
   "execution_count": 27,
   "id": "953e98ae",
   "metadata": {},
   "outputs": [],
   "source": [
    "E1_Nut = pd.read_csv('C:/Users/eeaaas/Downloads/e1_nutrients.csv',header=2457)\n",
    "E1_Nut.columns = ['E1','Date','Depth','Nitrite','Nit+Nat','Ammonia','Silicate','Phosphate','-','-','-']"
   ]
  },
  {
   "cell_type": "code",
   "execution_count": 29,
   "id": "2fe5d55f",
   "metadata": {},
   "outputs": [],
   "source": [
    "E1_Nuts = []\n",
    "for i in np.arange(0,102,6):\n",
    "    E1_Nuts.append((E1_Nut['Nit+Nat'][E1_Nut['Depth']==0]+E1_Nut.Ammonia[E1_Nut['Depth']==0]+E1_Nut.Silicate[E1_Nut['Depth']==0]+E1_Nut.Phosphate[E1_Nut['Depth']==0])[i])"
   ]
  },
  {
   "cell_type": "code",
   "execution_count": 30,
   "id": "e937d9c0",
   "metadata": {},
   "outputs": [
    {
     "data": {
      "text/plain": [
       "[Text(0, 0.5, 'Nutrients (um)')]"
      ]
     },
     "execution_count": 30,
     "metadata": {},
     "output_type": "execute_result"
    },
    {
     "data": {
      "image/png": "[encoded data removed]",
      "text/plain": [
       "<Figure size 1152x288 with 2 Axes>"
      ]
     },
     "metadata": {
      "needs_background": "light"
     },
     "output_type": "display_data"
    }
   ],
   "source": [
    "x=df_modis['time']\n",
    "y1=df_modis['chlor_a']\n",
    "\n",
    "fig, ax1 = plt.subplots(1,1,figsize=(16,4))\n",
    "ax2 = ax1.twinx()\n",
    "ax1.scatter(x, y1, c='g', marker='x')\n",
    "ax2.scatter(dts,E1_Nuts,c='r',marker='x')\n",
    "ax1.set(ylabel='Chl a')\n",
    "ax2.set(ylabel='Nutrients (um)')"
   ]
  }
 ],
 "metadata": {
  "kernelspec": {
   "display_name": "Python 3",
   "language": "python",
   "name": "python3"
  },
  "language_info": {
   "codemirror_mode": {
    "name": "ipython",
    "version": 3
   },
   "file_extension": ".py",
   "mimetype": "text/x-python",
   "name": "python",
   "nbconvert_exporter": "python",
   "pygments_lexer": "ipython3",
   "version": "3.8.8"
  }
 },
 "nbformat": 4,
 "nbformat_minor": 5
}
