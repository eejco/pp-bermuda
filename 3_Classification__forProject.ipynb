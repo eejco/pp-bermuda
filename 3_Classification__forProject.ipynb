{
  "nbformat": 4,
  "nbformat_minor": 0,
  "metadata": {
    "colab": {
      "name": "3-Classification.ipynb",
      "provenance": [],
      "collapsed_sections": [],
      "include_colab_link": true
    },
    "kernelspec": {
      "name": "python3",
      "display_name": "Python 3"
    }
  },
  "cells": [
    {
      "cell_type": "markdown",
      "metadata": {
        "id": "view-in-github",
        "colab_type": "text"
      },
      "source": [
        "<a href=\"https://colab.research.google.com/github/tlohde/sense_GEE/blob/main/SENSE_2020_GEE/3_Classification__forProject.ipynb\" target=\"_parent\"><img src=\"https://colab.research.google.com/assets/colab-badge.svg\" alt=\"Open In Colab\"/></a>"
      ]
    },
    {
      "cell_type": "code",
      "metadata": {
        "id": "XmD3dQUvD4nv",
        "colab": {
          "base_uri": "https://localhost:8080/"
        },
        "outputId": "2f57d44b-7246-42e3-c22f-05851a85a570"
      },
      "source": [
        "# Import earthengine API\n",
        "import ee\n",
        "# Authenticate and initialise \n",
        "ee.Authenticate()\n",
        "ee.Initialize()"
      ],
      "execution_count": 1,
      "outputs": [
        {
          "output_type": "stream",
          "name": "stdout",
          "text": [
            "To authorize access needed by Earth Engine, open the following URL in a web browser and follow the instructions. If the web browser does not start automatically, please manually browse the URL below.\n",
            "\n",
            "    https://accounts.google.com/o/oauth2/auth?client_id=517222506229-vsmmajv00ul0bs7p89v5m89qs8eb9359.apps.googleusercontent.com&scope=https%3A%2F%2Fwww.googleapis.com%2Fauth%2Fearthengine+https%3A%2F%2Fwww.googleapis.com%2Fauth%2Fdevstorage.full_control&redirect_uri=urn%3Aietf%3Awg%3Aoauth%3A2.0%3Aoob&response_type=code&code_challenge=YZqkn9J2L1e3TJGGxOogSoWl_lzq4OmGjoyYBRBITcQ&code_challenge_method=S256\n",
            "\n",
            "The authorization workflow will generate a code, which you should paste in the box below. \n",
            "Enter verification code: 4/1AX4XfWg5mBvKezRrViXDSSK_uDGRVuW8l7LQ84TfUu3DsdqrxAUfep5lOvw\n",
            "\n",
            "Successfully saved authorization token.\n"
          ]
        }
      ]
    },
    {
      "cell_type": "code",
      "metadata": {
        "id": "JNzYCNS00r6m",
        "outputId": "7cfcf4fa-a9b5-4384-bac0-53bc91ebb6fc",
        "colab": {
          "base_uri": "https://localhost:8080/",
          "height": 35
        }
      },
      "source": [
        "%matplotlib inline\n",
        "from IPython.display import Image\n",
        "import ee, datetime\n",
        "import pandas as pd\n",
        "from pylab import *\n",
        "from matplotlib.pylab import rcParams\n",
        "\n",
        "#!pip install geehydro # Life saver for plotting GEE stuff with Python!\n",
        "import geehydro\n",
        "import folium\n",
        "\n",
        "import subprocess\n",
        "\n",
        "try:\n",
        "    import geemap\n",
        "except ImportError:\n",
        "    print('Installing geemap ...')\n",
        "    subprocess.check_call([\"python\", '-m', 'pip', 'install', 'geemap'])\n",
        "\n",
        "import geemap\n"
      ],
      "execution_count": 42,
      "outputs": [
        {
          "output_type": "stream",
          "name": "stdout",
          "text": [
            "Installing geemap ...\n"
          ]
        }
      ]
    },
    {
      "cell_type": "code",
      "metadata": {
        "id": "AXEZqxl4-E6a",
        "colab": {
          "base_uri": "https://localhost:8080/",
          "height": 1000
        },
        "outputId": "6fcb5c45-79d0-498b-b51a-18674dc55516"
      },
      "source": [
        "lon = -4.248941\n",
        "lat = 49.852876\n",
        "\n",
        "# collection of landsat8 images between dates at point of interest\n",
        "l8_col = ee.ImageCollection('LANDSAT/LC08/C01/T1').filterBounds(ee.Geometry.Point(lon, lat)).filterDate('2020-05-01','2020-07-31')\n",
        "\n",
        "# Get the number of images.\n",
        "count = l8_col.size()\n",
        "print('Number of images in collection: ', str(count.getInfo())+'\\n')\n",
        "\n",
        "# Get the date range of images in the collection.\n",
        "\n",
        "# range = collection.reduceColumns(ee.Reducer.minMax(), [\"system:time_start\"])\n",
        "# print('Date range: ', str(ee.Date(range.get('min')).getInfo()), str(ee.Date(range.get('max')).getInfo())+'\\n')\n",
        "\n",
        "##### get dates of each image\n",
        "\n",
        "dates = l8_col.getArray(\"system:time_start\")\n",
        "\n",
        "point = ee.Geometry.Point(-4.248941, 49.852876)\n",
        "\n",
        "# Get info from the point\n",
        "\n",
        "info = l8_col.getRegion(point,30).getInfo() # change colelction by series\n",
        "# print(info)\n",
        "\n",
        "# Reshape image collection \n",
        "# Spearate header from data, and store data in an array\n",
        "header = info[0]\n",
        "data = array(info[1:])\n",
        "\n",
        "# Extract time from data\n",
        "iTime = header.index('time')\n",
        "time = pd.array([datetime.datetime.fromtimestamp(i/1000) for i in (data[0:,iTime].astype(int))])\n",
        "#print(time)\n",
        "# june23 = l8_col.filterDate('2020-06-23').first()\n",
        "june23 = ee.ImageCollection('LANDSAT/LC08/C01/T1').filterBounds(ee.Geometry.Point(lon, lat)).filterDate('2020-06-21','2020-06-25').first()\n",
        "\n",
        "june23_rgb = june23.select(['B4','B3','B2'])\n",
        "\n",
        "# Image(url=june23.getThumbUrl({'min': 0, 'max': 30000, 'bands':['B4','B3','B2'],'dimensions': 512}))\n",
        "\n",
        "aoi = ee.Geometry.Polygon(\n",
        "    [[-4.4250233, 50.097365],\n",
        "      [-4.4332587,50.0885514],\n",
        "      [-4.4250233,49.9985597],\n",
        "      [-4.2136499,50.005624],\n",
        "      [-4.1999243,50.0956024],\n",
        "      [-4.4250233,50.097365]])\n",
        "\n",
        "# sample the specific band from image, and convert to 2d array\n",
        "band_arrs = june23_rgb.sampleRectangle(region = aoi)\n",
        "print(band_arrs)\n",
        "b4 = band_arrs.get('B4')\n",
        "nparr_b4 = np.array(b4.getInfo())\n",
        "print(b4)\n",
        "# flatten to 1d and get histogram of band\n",
        "plt.hist(nparr_b4.flatten())\n"
      ],
      "execution_count": 115,
      "outputs": [
        {
          "output_type": "stream",
          "name": "stdout",
          "text": [
            "Number of images in collection:  9\n",
            "\n",
            "ee.Feature({\n",
            "  \"functionInvocationValue\": {\n",
            "    \"functionName\": \"Image.sampleRectangle\",\n",
            "    \"arguments\": {\n",
            "      \"image\": {\n",
            "        \"functionInvocationValue\": {\n",
            "          \"functionName\": \"Image.select\",\n",
            "          \"arguments\": {\n",
            "            \"bandSelectors\": {\n",
            "              \"constantValue\": [\n",
            "                \"B4\",\n",
            "                \"B3\",\n",
            "                \"B2\"\n",
            "              ]\n",
            "            },\n",
            "            \"input\": {\n",
            "              \"functionInvocationValue\": {\n",
            "                \"functionName\": \"Collection.first\",\n",
            "                \"arguments\": {\n",
            "                  \"collection\": {\n",
            "                    \"functionInvocationValue\": {\n",
            "                      \"functionName\": \"Collection.filter\",\n",
            "                      \"arguments\": {\n",
            "                        \"collection\": {\n",
            "                          \"functionInvocationValue\": {\n",
            "                            \"functionName\": \"Collection.filter\",\n",
            "                            \"arguments\": {\n",
            "                              \"collection\": {\n",
            "                                \"functionInvocationValue\": {\n",
            "                                  \"functionName\": \"ImageCollection.load\",\n",
            "                                  \"arguments\": {\n",
            "                                    \"id\": {\n",
            "                                      \"constantValue\": \"LANDSAT/LC08/C01/T1\"\n",
            "                                    }\n",
            "                                  }\n",
            "                                }\n",
            "                              },\n",
            "                              \"filter\": {\n",
            "                                \"functionInvocationValue\": {\n",
            "                                  \"functionName\": \"Filter.intersects\",\n",
            "                                  \"arguments\": {\n",
            "                                    \"leftField\": {\n",
            "                                      \"constantValue\": \".all\"\n",
            "                                    },\n",
            "                                    \"rightValue\": {\n",
            "                                      \"functionInvocationValue\": {\n",
            "                                        \"functionName\": \"Feature\",\n",
            "                                        \"arguments\": {\n",
            "                                          \"geometry\": {\n",
            "                                            \"functionInvocationValue\": {\n",
            "                                              \"functionName\": \"GeometryConstructors.Point\",\n",
            "                                              \"arguments\": {\n",
            "                                                \"coordinates\": {\n",
            "                                                  \"constantValue\": [\n",
            "                                                    -4.248941,\n",
            "                                                    49.852876\n",
            "                                                  ]\n",
            "                                                }\n",
            "                                              }\n",
            "                                            }\n",
            "                                          }\n",
            "                                        }\n",
            "                                      }\n",
            "                                    }\n",
            "                                  }\n",
            "                                }\n",
            "                              }\n",
            "                            }\n",
            "                          }\n",
            "                        },\n",
            "                        \"filter\": {\n",
            "                          \"functionInvocationValue\": {\n",
            "                            \"functionName\": \"Filter.dateRangeContains\",\n",
            "                            \"arguments\": {\n",
            "                              \"leftValue\": {\n",
            "                                \"functionInvocationValue\": {\n",
            "                                  \"functionName\": \"DateRange\",\n",
            "                                  \"arguments\": {\n",
            "                                    \"end\": {\n",
            "                                      \"constantValue\": \"2020-06-25\"\n",
            "                                    },\n",
            "                                    \"start\": {\n",
            "                                      \"constantValue\": \"2020-06-21\"\n",
            "                                    }\n",
            "                                  }\n",
            "                                }\n",
            "                              },\n",
            "                              \"rightField\": {\n",
            "                                \"constantValue\": \"system:time_start\"\n",
            "                              }\n",
            "                            }\n",
            "                          }\n",
            "                        }\n",
            "                      }\n",
            "                    }\n",
            "                  }\n",
            "                }\n",
            "              }\n",
            "            }\n",
            "          }\n",
            "        }\n",
            "      },\n",
            "      \"region\": {\n",
            "        \"functionInvocationValue\": {\n",
            "          \"functionName\": \"GeometryConstructors.Polygon\",\n",
            "          \"arguments\": {\n",
            "            \"coordinates\": {\n",
            "              \"constantValue\": [\n",
            "                [\n",
            "                  [\n",
            "                    -4.4250233,\n",
            "                    50.097365\n",
            "                  ],\n",
            "                  [\n",
            "                    -4.4332587,\n",
            "                    50.0885514\n",
            "                  ],\n",
            "                  [\n",
            "                    -4.4250233,\n",
            "                    49.9985597\n",
            "                  ],\n",
            "                  [\n",
            "                    -4.2136499,\n",
            "                    50.005624\n",
            "                  ],\n",
            "                  [\n",
            "                    -4.1999243,\n",
            "                    50.0956024\n",
            "                  ],\n",
            "                  [\n",
            "                    -4.4250233,\n",
            "                    50.097365\n",
            "                  ]\n",
            "                ]\n",
            "              ]\n",
            "            },\n",
            "            \"evenOdd\": {\n",
            "              \"constantValue\": true\n",
            "            }\n",
            "          }\n",
            "        }\n",
            "      }\n",
            "    }\n",
            "  }\n",
            "})\n",
            "ee.ComputedObject({\n",
            "  \"functionInvocationValue\": {\n",
            "    \"functionName\": \"Element.get\",\n",
            "    \"arguments\": {\n",
            "      \"object\": {\n",
            "        \"functionInvocationValue\": {\n",
            "          \"functionName\": \"Image.sampleRectangle\",\n",
            "          \"arguments\": {\n",
            "            \"image\": {\n",
            "              \"functionInvocationValue\": {\n",
            "                \"functionName\": \"Image.select\",\n",
            "                \"arguments\": {\n",
            "                  \"bandSelectors\": {\n",
            "                    \"constantValue\": [\n",
            "                      \"B4\",\n",
            "                      \"B3\",\n",
            "                      \"B2\"\n",
            "                    ]\n",
            "                  },\n",
            "                  \"input\": {\n",
            "                    \"functionInvocationValue\": {\n",
            "                      \"functionName\": \"Collection.first\",\n",
            "                      \"arguments\": {\n",
            "                        \"collection\": {\n",
            "                          \"functionInvocationValue\": {\n",
            "                            \"functionName\": \"Collection.filter\",\n",
            "                            \"arguments\": {\n",
            "                              \"collection\": {\n",
            "                                \"functionInvocationValue\": {\n",
            "                                  \"functionName\": \"Collection.filter\",\n",
            "                                  \"arguments\": {\n",
            "                                    \"collection\": {\n",
            "                                      \"functionInvocationValue\": {\n",
            "                                        \"functionName\": \"ImageCollection.load\",\n",
            "                                        \"arguments\": {\n",
            "                                          \"id\": {\n",
            "                                            \"constantValue\": \"LANDSAT/LC08/C01/T1\"\n",
            "                                          }\n",
            "                                        }\n",
            "                                      }\n",
            "                                    },\n",
            "                                    \"filter\": {\n",
            "                                      \"functionInvocationValue\": {\n",
            "                                        \"functionName\": \"Filter.intersects\",\n",
            "                                        \"arguments\": {\n",
            "                                          \"leftField\": {\n",
            "                                            \"constantValue\": \".all\"\n",
            "                                          },\n",
            "                                          \"rightValue\": {\n",
            "                                            \"functionInvocationValue\": {\n",
            "                                              \"functionName\": \"Feature\",\n",
            "                                              \"arguments\": {\n",
            "                                                \"geometry\": {\n",
            "                                                  \"functionInvocationValue\": {\n",
            "                                                    \"functionName\": \"GeometryConstructors.Point\",\n",
            "                                                    \"arguments\": {\n",
            "                                                      \"coordinates\": {\n",
            "                                                        \"constantValue\": [\n",
            "                                                          -4.248941,\n",
            "                                                          49.852876\n",
            "                                                        ]\n",
            "                                                      }\n",
            "                                                    }\n",
            "                                                  }\n",
            "                                                }\n",
            "                                              }\n",
            "                                            }\n",
            "                                          }\n",
            "                                        }\n",
            "                                      }\n",
            "                                    }\n",
            "                                  }\n",
            "                                }\n",
            "                              },\n",
            "                              \"filter\": {\n",
            "                                \"functionInvocationValue\": {\n",
            "                                  \"functionName\": \"Filter.dateRangeContains\",\n",
            "                                  \"arguments\": {\n",
            "                                    \"leftValue\": {\n",
            "                                      \"functionInvocationValue\": {\n",
            "                                        \"functionName\": \"DateRange\",\n",
            "                                        \"arguments\": {\n",
            "                                          \"end\": {\n",
            "                                            \"constantValue\": \"2020-06-25\"\n",
            "                                          },\n",
            "                                          \"start\": {\n",
            "                                            \"constantValue\": \"2020-06-21\"\n",
            "                                          }\n",
            "                                        }\n",
            "                                      }\n",
            "                                    },\n",
            "                                    \"rightField\": {\n",
            "                                      \"constantValue\": \"system:time_start\"\n",
            "                                    }\n",
            "                                  }\n",
            "                                }\n",
            "                              }\n",
            "                            }\n",
            "                          }\n",
            "                        }\n",
            "                      }\n",
            "                    }\n",
            "                  }\n",
            "                }\n",
            "              }\n",
            "            },\n",
            "            \"region\": {\n",
            "              \"functionInvocationValue\": {\n",
            "                \"functionName\": \"GeometryConstructors.Polygon\",\n",
            "                \"arguments\": {\n",
            "                  \"coordinates\": {\n",
            "                    \"constantValue\": [\n",
            "                      [\n",
            "                        [\n",
            "                          -4.4250233,\n",
            "                          50.097365\n",
            "                        ],\n",
            "                        [\n",
            "                          -4.4332587,\n",
            "                          50.0885514\n",
            "                        ],\n",
            "                        [\n",
            "                          -4.4250233,\n",
            "                          49.9985597\n",
            "                        ],\n",
            "                        [\n",
            "                          -4.2136499,\n",
            "                          50.005624\n",
            "                        ],\n",
            "                        [\n",
            "                          -4.1999243,\n",
            "                          50.0956024\n",
            "                        ],\n",
            "                        [\n",
            "                          -4.4250233,\n",
            "                          50.097365\n",
            "                        ]\n",
            "                      ]\n",
            "                    ]\n",
            "                  },\n",
            "                  \"evenOdd\": {\n",
            "                    \"constantValue\": true\n",
            "                  }\n",
            "                }\n",
            "              }\n",
            "            }\n",
            "          }\n",
            "        }\n",
            "      },\n",
            "      \"property\": {\n",
            "        \"constantValue\": \"B4\"\n",
            "      }\n",
            "    }\n",
            "  }\n",
            "})\n"
          ]
        },
        {
          "output_type": "execute_result",
          "data": {
            "text/plain": [
              "(array([ 1398.,  6317.,  4279.,  3880.,  8743., 22796., 72945., 72094.,\n",
              "        12076.,   258.]),\n",
              " array([7357. , 7477.7, 7598.4, 7719.1, 7839.8, 7960.5, 8081.2, 8201.9,\n",
              "        8322.6, 8443.3, 8564. ]),\n",
              " <a list of 10 Patch objects>)"
            ]
          },
          "metadata": {},
          "execution_count": 115
        },
        {
          "output_type": "display_data",
          "data": {
            "image/png": "[encoded data removed]",
            "text/plain": [
              "<Figure size 432x288 with 1 Axes>"
            ]
          },
          "metadata": {
            "needs_background": "light"
          }
        }
      ]
    },
    {
      "cell_type": "markdown",
      "metadata": {
        "id": "t8mms6Bd7CaE"
      },
      "source": [
        "## Unsupervised classification"
      ]
    },
    {
      "cell_type": "markdown",
      "metadata": {
        "id": "JfD47CRl7Fa6"
      },
      "source": [
        "The `ee.Clusterer` package handles unsupervised classification (or clustering) in Earth Engine. More details about each Clusterer are available in the [reference docs in the Code Editor](https://code.earthengine.google.com/#workspace).\n",
        "\n",
        "Clusterers are used in the same manner as classifiers in Earth Engine. The general workflow for clustering is:\n",
        "\n",
        "*  Assemble features with numeric properties in which to find clusters.\n",
        "*   Instantiate a clusterer. Set its parameters if necessary.\n",
        "*  Train the clusterer using the training data.\n",
        "* Apply the clusterer to an image or feature collection.\n",
        "* Label the clusters.\n",
        "\n",
        "\n",
        "The training data is a `FeatureCollection` with properties that will be input to the clusterer. \n",
        "\n",
        "Unlike classifiers, there is no input class value for a Clusterer. \n",
        "\n",
        "Like classifiers, the data for the train and apply steps are expected to have the same number of values. When a trained clusterer is applied to an image or table, it assigns an integer cluster ID to each pixel or feature.\n",
        "\n",
        "These algorithms are currently based on the algorithms with the same name in [Weka](https://www.cs.waikato.ac.nz/ml/weka/).\n",
        "\n",
        "Here is a simple example of building and using an `ee.Clusterer`:"
      ]
    },
    {
      "cell_type": "code",
      "metadata": {
        "id": "4Rt5VfLfykjV"
      },
      "source": [
        "##### create land mask ####\n",
        "\n",
        "# ndwi \n",
        "ndwi = june23.normalizedDifference(['B3', 'B5']) # green and NIR\n",
        "\n",
        "# Create binary image - water vs. not water\n",
        "water = ndwi.gt(0) # from McFeeters (1996)\n",
        "\n",
        "# mask landsat image\n",
        "june23_masked = june23.updateMask(water)\n",
        "\n",
        "#### create map\n",
        "maskMap = folium.Map(location = [50.00,-4.2,],zoom_start=6)\n",
        "# add layers\n",
        "maskMap.addLayer(water,{'min':0, 'max':1},'water')\n",
        "maskMap.addLayer(june23_masked, {'bands': ['B4', 'B3', 'B2'], 'min':0, 'max':20000}, 'masked landsat image')\n",
        "# add layer control and view map\n",
        "folium.LayerControl().add_to(maskMap)\n",
        "maskMap"
      ],
      "execution_count": null,
      "outputs": []
    },
    {
      "cell_type": "code",
      "metadata": {
        "id": "-fzRJyrc90qx",
        "colab": {
          "base_uri": "https://localhost:8080/",
          "height": 787
        },
        "outputId": "4458f477-5607-48cb-e44a-66a6cf016504"
      },
      "source": [
        "\n",
        "# # Define a region in which to generate a sample of the input.\n",
        "\n",
        "# lowerleft = ee.Geometry.Point(-5.537,48.50)\n",
        "# upperright = ee.Geometry.Point(-1.11,51.719)\n",
        "# region = ee.Geometry.Rectangle([lowerleft, upperright])\n",
        "\n",
        "# not necessary to define region - as if unpecified defaults to whole image footprint\n",
        "\n",
        "# Make the training dataset.\n",
        "training = june23_masked.sample(scale= 30,  numPixels= 5000)\n",
        "\n",
        "# Instantiate the clusterer and train it.\n",
        "clusterer = ee.Clusterer.wekaKMeans(3).train(training)\n",
        "\n",
        "# Cluster the input using the trained clusterer.\n",
        "result = june23_masked.cluster(clusterer)\n",
        "\n",
        "# Display the clusters with random colors.\n",
        "\n",
        "resultsMap = folium.Map(location = [50.00,-4.2,],zoom_start=9)\n",
        "resultsMap.addLayer(result.randomVisualizer(), {}, 'clusters')\n",
        "resultsMap.addLayer(june23, {'bands': ['B4', 'B3', 'B2'], 'min':0, 'max':20000}, 'landsat image')\n",
        "folium.LayerControl().add_to(resultsMap)\n",
        "resultsMap\n"
      ],
      "execution_count": 112,
      "outputs": [
        {
          "output_type": "execute_result",
          "data": {
            "text/html": [
              "<div style=\"width:100%;\"><div style=\"position:relative;width:100%;height:0;padding-bottom:60%;\"><span style=\"color:#565656\">Make this Notebook Trusted to load map: File -> Trust Notebook</span><iframe src=\"about:blank\" style=\"position:absolute;width:100%;height:100%;left:0;top:0;border:none !important;\" data-html=%3C%21DOCTYPE%20html%3E%0A%3Chead%3E%20%20%20%20%0A%20%20%20%20%3Cmeta%20http-equiv%3D%22content-type%22%20content%3D%22text/html%3B%20charset%3DUTF-8%22%20/%3E%0A%20%20%20%20%3Cscript%3EL_PREFER_CANVAS%3Dfalse%3B%20L_NO_TOUCH%3Dfalse%3B%20L_DISABLE_3D%3Dfalse%3B%3C/script%3E%0A%20%20%20%20%3Cscript%20src%3D%22https%3A//cdn.jsdelivr.net/npm/leaflet%401.4.0/dist/leaflet.js%22%3E%3C/script%3E%0A%20%20%20%20%3Cscript%20src%3D%22https%3A//code.jquery.com/jquery-1.12.4.min.js%22%3E%3C/script%3E%0A%20%20%20%20%3Cscript%20src%3D%22https%3A//maxcdn.bootstrapcdn.com/bootstrap/3.2.0/js/bootstrap.min.js%22%3E%3C/script%3E%0A%20%20%20%20%3Cscript%20src%3D%22https%3A//cdnjs.cloudflare.com/ajax/libs/Leaflet.awesome-markers/2.0.2/leaflet.awesome-markers.js%22%3E%3C/script%3E%0A%20%20%20%20%3Clink%20rel%3D%22stylesheet%22%20href%3D%22https%3A//cdn.jsdelivr.net/npm/leaflet%401.4.0/dist/leaflet.css%22/%3E%0A%20%20%20%20%3Clink%20rel%3D%22stylesheet%22%20href%3D%22https%3A//maxcdn.bootstrapcdn.com/bootstrap/3.2.0/css/bootstrap.min.css%22/%3E%0A%20%20%20%20%3Clink%20rel%3D%22stylesheet%22%20href%3D%22https%3A//maxcdn.bootstrapcdn.com/bootstrap/3.2.0/css/bootstrap-theme.min.css%22/%3E%0A%20%20%20%20%3Clink%20rel%3D%22stylesheet%22%20href%3D%22https%3A//maxcdn.bootstrapcdn.com/font-awesome/4.6.3/css/font-awesome.min.css%22/%3E%0A%20%20%20%20%3Clink%20rel%3D%22stylesheet%22%20href%3D%22https%3A//cdnjs.cloudflare.com/ajax/libs/Leaflet.awesome-markers/2.0.2/leaflet.awesome-markers.css%22/%3E%0A%20%20%20%20%3Clink%20rel%3D%22stylesheet%22%20href%3D%22https%3A//rawcdn.githack.com/python-visualization/folium/master/folium/templates/leaflet.awesome.rotate.css%22/%3E%0A%20%20%20%20%3Cstyle%3Ehtml%2C%20body%20%7Bwidth%3A%20100%25%3Bheight%3A%20100%25%3Bmargin%3A%200%3Bpadding%3A%200%3B%7D%3C/style%3E%0A%20%20%20%20%3Cstyle%3E%23map%20%7Bposition%3Aabsolute%3Btop%3A0%3Bbottom%3A0%3Bright%3A0%3Bleft%3A0%3B%7D%3C/style%3E%0A%20%20%20%20%0A%20%20%20%20%3Cmeta%20name%3D%22viewport%22%20content%3D%22width%3Ddevice-width%2C%0A%20%20%20%20%20%20%20%20initial-scale%3D1.0%2C%20maximum-scale%3D1.0%2C%20user-scalable%3Dno%22%20/%3E%0A%20%20%20%20%3Cstyle%3E%23map_12f299936e1a42b39f81839997d94e3d%20%7B%0A%20%20%20%20%20%20%20%20position%3A%20relative%3B%0A%20%20%20%20%20%20%20%20width%3A%20100.0%25%3B%0A%20%20%20%20%20%20%20%20height%3A%20100.0%25%3B%0A%20%20%20%20%20%20%20%20left%3A%200.0%25%3B%0A%20%20%20%20%20%20%20%20top%3A%200.0%25%3B%0A%20%20%20%20%20%20%20%20%7D%0A%20%20%20%20%3C/style%3E%0A%3C/head%3E%0A%3Cbody%3E%20%20%20%20%0A%20%20%20%20%0A%20%20%20%20%3Cdiv%20class%3D%22folium-map%22%20id%3D%22map_12f299936e1a42b39f81839997d94e3d%22%20%3E%3C/div%3E%0A%3C/body%3E%0A%3Cscript%3E%20%20%20%20%0A%20%20%20%20%0A%20%20%20%20%0A%20%20%20%20%20%20%20%20var%20bounds%20%3D%20null%3B%0A%20%20%20%20%0A%0A%20%20%20%20var%20map_12f299936e1a42b39f81839997d94e3d%20%3D%20L.map%28%0A%20%20%20%20%20%20%20%20%27map_12f299936e1a42b39f81839997d94e3d%27%2C%20%7B%0A%20%20%20%20%20%20%20%20center%3A%20%5B50.0%2C%20-4.2%5D%2C%0A%20%20%20%20%20%20%20%20zoom%3A%209%2C%0A%20%20%20%20%20%20%20%20maxBounds%3A%20bounds%2C%0A%20%20%20%20%20%20%20%20layers%3A%20%5B%5D%2C%0A%20%20%20%20%20%20%20%20worldCopyJump%3A%20false%2C%0A%20%20%20%20%20%20%20%20crs%3A%20L.CRS.EPSG3857%2C%0A%20%20%20%20%20%20%20%20zoomControl%3A%20true%2C%0A%20%20%20%20%20%20%20%20%7D%29%3B%0A%0A%0A%20%20%20%20%0A%20%20%20%20var%20tile_layer_a449cc1996dd413aaf5036f510120e69%20%3D%20L.tileLayer%28%0A%20%20%20%20%20%20%20%20%27https%3A//%7Bs%7D.tile.openstreetmap.org/%7Bz%7D/%7Bx%7D/%7By%7D.png%27%2C%0A%20%20%20%20%20%20%20%20%7B%0A%20%20%20%20%20%20%20%20%22attribution%22%3A%20null%2C%0A%20%20%20%20%20%20%20%20%22detectRetina%22%3A%20false%2C%0A%20%20%20%20%20%20%20%20%22maxNativeZoom%22%3A%2018%2C%0A%20%20%20%20%20%20%20%20%22maxZoom%22%3A%2018%2C%0A%20%20%20%20%20%20%20%20%22minZoom%22%3A%200%2C%0A%20%20%20%20%20%20%20%20%22noWrap%22%3A%20false%2C%0A%20%20%20%20%20%20%20%20%22opacity%22%3A%201%2C%0A%20%20%20%20%20%20%20%20%22subdomains%22%3A%20%22abc%22%2C%0A%20%20%20%20%20%20%20%20%22tms%22%3A%20false%0A%7D%29.addTo%28map_12f299936e1a42b39f81839997d94e3d%29%3B%0A%20%20%20%20var%20tile_layer_956ae2661d27466e90009adf05c56c2e%20%3D%20L.tileLayer%28%0A%20%20%20%20%20%20%20%20%27https%3A//earthengine.googleapis.com/v1alpha/projects/earthengine-legacy/maps/1c42e9ffaaeebdcce3896e6afb10ea97-efc497724e9a207b15468e619e13f313/tiles/%7Bz%7D/%7Bx%7D/%7By%7D%27%2C%0A%20%20%20%20%20%20%20%20%7B%0A%20%20%20%20%20%20%20%20%22attribution%22%3A%20%22Google%20Earth%20Engine%22%2C%0A%20%20%20%20%20%20%20%20%22detectRetina%22%3A%20false%2C%0A%20%20%20%20%20%20%20%20%22maxNativeZoom%22%3A%2018%2C%0A%20%20%20%20%20%20%20%20%22maxZoom%22%3A%2018%2C%0A%20%20%20%20%20%20%20%20%22minZoom%22%3A%200%2C%0A%20%20%20%20%20%20%20%20%22noWrap%22%3A%20false%2C%0A%20%20%20%20%20%20%20%20%22opacity%22%3A%201%2C%0A%20%20%20%20%20%20%20%20%22subdomains%22%3A%20%22abc%22%2C%0A%20%20%20%20%20%20%20%20%22tms%22%3A%20false%0A%7D%29.addTo%28map_12f299936e1a42b39f81839997d94e3d%29%3B%0A%20%20%20%20var%20tile_layer_be35b967f64a460e9bb31bf207828791%20%3D%20L.tileLayer%28%0A%20%20%20%20%20%20%20%20%27https%3A//earthengine.googleapis.com/v1alpha/projects/earthengine-legacy/maps/977da5cd00b34ebd9b623522769da1ed-b688b1cdaf23038d711239b7262fc306/tiles/%7Bz%7D/%7Bx%7D/%7By%7D%27%2C%0A%20%20%20%20%20%20%20%20%7B%0A%20%20%20%20%20%20%20%20%22attribution%22%3A%20%22Google%20Earth%20Engine%22%2C%0A%20%20%20%20%20%20%20%20%22detectRetina%22%3A%20false%2C%0A%20%20%20%20%20%20%20%20%22maxNativeZoom%22%3A%2018%2C%0A%20%20%20%20%20%20%20%20%22maxZoom%22%3A%2018%2C%0A%20%20%20%20%20%20%20%20%22minZoom%22%3A%200%2C%0A%20%20%20%20%20%20%20%20%22noWrap%22%3A%20false%2C%0A%20%20%20%20%20%20%20%20%22opacity%22%3A%201%2C%0A%20%20%20%20%20%20%20%20%22subdomains%22%3A%20%22abc%22%2C%0A%20%20%20%20%20%20%20%20%22tms%22%3A%20false%0A%7D%29.addTo%28map_12f299936e1a42b39f81839997d94e3d%29%3B%0A%20%20%20%20%0A%20%20%20%20%20%20%20%20%20%20%20%20var%20layer_control_7658e838811b4cb5ba2110af01fca561%20%3D%20%7B%0A%20%20%20%20%20%20%20%20%20%20%20%20%20%20%20%20base_layers%20%3A%20%7B%20%22openstreetmap%22%20%3A%20tile_layer_a449cc1996dd413aaf5036f510120e69%2C%20%7D%2C%0A%20%20%20%20%20%20%20%20%20%20%20%20%20%20%20%20overlays%20%3A%20%7B%20%22clusters%22%20%3A%20tile_layer_956ae2661d27466e90009adf05c56c2e%2C%22landsat%20image%22%20%3A%20tile_layer_be35b967f64a460e9bb31bf207828791%2C%20%7D%0A%20%20%20%20%20%20%20%20%20%20%20%20%20%20%20%20%7D%3B%0A%20%20%20%20%20%20%20%20%20%20%20%20L.control.layers%28%0A%20%20%20%20%20%20%20%20%20%20%20%20%20%20%20%20layer_control_7658e838811b4cb5ba2110af01fca561.base_layers%2C%0A%20%20%20%20%20%20%20%20%20%20%20%20%20%20%20%20layer_control_7658e838811b4cb5ba2110af01fca561.overlays%2C%0A%20%20%20%20%20%20%20%20%20%20%20%20%20%20%20%20%7Bposition%3A%20%27topright%27%2C%0A%20%20%20%20%20%20%20%20%20%20%20%20%20%20%20%20%20collapsed%3A%20true%2C%0A%20%20%20%20%20%20%20%20%20%20%20%20%20%20%20%20%20autoZIndex%3A%20true%0A%20%20%20%20%20%20%20%20%20%20%20%20%20%20%20%20%7D%29.addTo%28map_12f299936e1a42b39f81839997d94e3d%29%3B%0A%20%20%20%20%20%20%20%20%20%20%20%20%0A%20%20%20%20%20%20%20%20%0A%3C/script%3E onload=\"this.contentDocument.open();this.contentDocument.write(    decodeURIComponent(this.getAttribute('data-html')));this.contentDocument.close();\" allowfullscreen webkitallowfullscreen mozallowfullscreen></iframe></div></div>"
            ],
            "text/plain": [
              "<folium.folium.Map at 0x7fdaeadb7d90>"
            ]
          },
          "metadata": {},
          "execution_count": 112
        }
      ]
    },
    {
      "cell_type": "markdown",
      "metadata": {
        "id": "fdG8UClsiVAs"
      },
      "source": [
        ""
      ]
    },
    {
      "cell_type": "code",
      "metadata": {
        "id": "ZS3N5G80iVuo",
        "outputId": "81190d7d-7003-468e-c6bc-dfdabe263907",
        "colab": {
          "base_uri": "https://localhost:8080/",
          "height": 787
        }
      },
      "source": [
        ""
      ],
      "execution_count": 109,
      "outputs": [
        {
          "output_type": "execute_result",
          "data": {
            "text/html": [
              "<div style=\"width:100%;\"><div style=\"position:relative;width:100%;height:0;padding-bottom:60%;\"><span style=\"color:#565656\">Make this Notebook Trusted to load map: File -> Trust Notebook</span><iframe src=\"about:blank\" style=\"position:absolute;width:100%;height:100%;left:0;top:0;border:none !important;\" data-html=%3C%21DOCTYPE%20html%3E%0A%3Chead%3E%20%20%20%20%0A%20%20%20%20%3Cmeta%20http-equiv%3D%22content-type%22%20content%3D%22text/html%3B%20charset%3DUTF-8%22%20/%3E%0A%20%20%20%20%3Cscript%3EL_PREFER_CANVAS%3Dfalse%3B%20L_NO_TOUCH%3Dfalse%3B%20L_DISABLE_3D%3Dfalse%3B%3C/script%3E%0A%20%20%20%20%3Cscript%20src%3D%22https%3A//cdn.jsdelivr.net/npm/leaflet%401.4.0/dist/leaflet.js%22%3E%3C/script%3E%0A%20%20%20%20%3Cscript%20src%3D%22https%3A//code.jquery.com/jquery-1.12.4.min.js%22%3E%3C/script%3E%0A%20%20%20%20%3Cscript%20src%3D%22https%3A//maxcdn.bootstrapcdn.com/bootstrap/3.2.0/js/bootstrap.min.js%22%3E%3C/script%3E%0A%20%20%20%20%3Cscript%20src%3D%22https%3A//cdnjs.cloudflare.com/ajax/libs/Leaflet.awesome-markers/2.0.2/leaflet.awesome-markers.js%22%3E%3C/script%3E%0A%20%20%20%20%3Clink%20rel%3D%22stylesheet%22%20href%3D%22https%3A//cdn.jsdelivr.net/npm/leaflet%401.4.0/dist/leaflet.css%22/%3E%0A%20%20%20%20%3Clink%20rel%3D%22stylesheet%22%20href%3D%22https%3A//maxcdn.bootstrapcdn.com/bootstrap/3.2.0/css/bootstrap.min.css%22/%3E%0A%20%20%20%20%3Clink%20rel%3D%22stylesheet%22%20href%3D%22https%3A//maxcdn.bootstrapcdn.com/bootstrap/3.2.0/css/bootstrap-theme.min.css%22/%3E%0A%20%20%20%20%3Clink%20rel%3D%22stylesheet%22%20href%3D%22https%3A//maxcdn.bootstrapcdn.com/font-awesome/4.6.3/css/font-awesome.min.css%22/%3E%0A%20%20%20%20%3Clink%20rel%3D%22stylesheet%22%20href%3D%22https%3A//cdnjs.cloudflare.com/ajax/libs/Leaflet.awesome-markers/2.0.2/leaflet.awesome-markers.css%22/%3E%0A%20%20%20%20%3Clink%20rel%3D%22stylesheet%22%20href%3D%22https%3A//rawcdn.githack.com/python-visualization/folium/master/folium/templates/leaflet.awesome.rotate.css%22/%3E%0A%20%20%20%20%3Cstyle%3Ehtml%2C%20body%20%7Bwidth%3A%20100%25%3Bheight%3A%20100%25%3Bmargin%3A%200%3Bpadding%3A%200%3B%7D%3C/style%3E%0A%20%20%20%20%3Cstyle%3E%23map%20%7Bposition%3Aabsolute%3Btop%3A0%3Bbottom%3A0%3Bright%3A0%3Bleft%3A0%3B%7D%3C/style%3E%0A%20%20%20%20%0A%20%20%20%20%3Cmeta%20name%3D%22viewport%22%20content%3D%22width%3Ddevice-width%2C%0A%20%20%20%20%20%20%20%20initial-scale%3D1.0%2C%20maximum-scale%3D1.0%2C%20user-scalable%3Dno%22%20/%3E%0A%20%20%20%20%3Cstyle%3E%23map_12292d8054e84d728958b1b1914b0ed9%20%7B%0A%20%20%20%20%20%20%20%20position%3A%20relative%3B%0A%20%20%20%20%20%20%20%20width%3A%20100.0%25%3B%0A%20%20%20%20%20%20%20%20height%3A%20100.0%25%3B%0A%20%20%20%20%20%20%20%20left%3A%200.0%25%3B%0A%20%20%20%20%20%20%20%20top%3A%200.0%25%3B%0A%20%20%20%20%20%20%20%20%7D%0A%20%20%20%20%3C/style%3E%0A%3C/head%3E%0A%3Cbody%3E%20%20%20%20%0A%20%20%20%20%0A%20%20%20%20%3Cdiv%20class%3D%22folium-map%22%20id%3D%22map_12292d8054e84d728958b1b1914b0ed9%22%20%3E%3C/div%3E%0A%3C/body%3E%0A%3Cscript%3E%20%20%20%20%0A%20%20%20%20%0A%20%20%20%20%0A%20%20%20%20%20%20%20%20var%20bounds%20%3D%20null%3B%0A%20%20%20%20%0A%0A%20%20%20%20var%20map_12292d8054e84d728958b1b1914b0ed9%20%3D%20L.map%28%0A%20%20%20%20%20%20%20%20%27map_12292d8054e84d728958b1b1914b0ed9%27%2C%20%7B%0A%20%20%20%20%20%20%20%20center%3A%20%5B50.0%2C%20-4.2%5D%2C%0A%20%20%20%20%20%20%20%20zoom%3A%206%2C%0A%20%20%20%20%20%20%20%20maxBounds%3A%20bounds%2C%0A%20%20%20%20%20%20%20%20layers%3A%20%5B%5D%2C%0A%20%20%20%20%20%20%20%20worldCopyJump%3A%20false%2C%0A%20%20%20%20%20%20%20%20crs%3A%20L.CRS.EPSG3857%2C%0A%20%20%20%20%20%20%20%20zoomControl%3A%20true%2C%0A%20%20%20%20%20%20%20%20%7D%29%3B%0A%0A%0A%20%20%20%20%0A%20%20%20%20var%20tile_layer_747c9a3cc8a14dcca46c355f33d1544a%20%3D%20L.tileLayer%28%0A%20%20%20%20%20%20%20%20%27https%3A//%7Bs%7D.tile.openstreetmap.org/%7Bz%7D/%7Bx%7D/%7By%7D.png%27%2C%0A%20%20%20%20%20%20%20%20%7B%0A%20%20%20%20%20%20%20%20%22attribution%22%3A%20null%2C%0A%20%20%20%20%20%20%20%20%22detectRetina%22%3A%20false%2C%0A%20%20%20%20%20%20%20%20%22maxNativeZoom%22%3A%2018%2C%0A%20%20%20%20%20%20%20%20%22maxZoom%22%3A%2018%2C%0A%20%20%20%20%20%20%20%20%22minZoom%22%3A%200%2C%0A%20%20%20%20%20%20%20%20%22noWrap%22%3A%20false%2C%0A%20%20%20%20%20%20%20%20%22opacity%22%3A%201%2C%0A%20%20%20%20%20%20%20%20%22subdomains%22%3A%20%22abc%22%2C%0A%20%20%20%20%20%20%20%20%22tms%22%3A%20false%0A%7D%29.addTo%28map_12292d8054e84d728958b1b1914b0ed9%29%3B%0A%20%20%20%20var%20tile_layer_d2d67c897477455ca0204bb7ce92a94c%20%3D%20L.tileLayer%28%0A%20%20%20%20%20%20%20%20%27https%3A//earthengine.googleapis.com/v1alpha/projects/earthengine-legacy/maps/6a48d247ea3e243bdc20161eac98e8c7-8c57f4ad154260bd732a91e9274fa78f/tiles/%7Bz%7D/%7Bx%7D/%7By%7D%27%2C%0A%20%20%20%20%20%20%20%20%7B%0A%20%20%20%20%20%20%20%20%22attribution%22%3A%20%22Google%20Earth%20Engine%22%2C%0A%20%20%20%20%20%20%20%20%22detectRetina%22%3A%20false%2C%0A%20%20%20%20%20%20%20%20%22maxNativeZoom%22%3A%2018%2C%0A%20%20%20%20%20%20%20%20%22maxZoom%22%3A%2018%2C%0A%20%20%20%20%20%20%20%20%22minZoom%22%3A%200%2C%0A%20%20%20%20%20%20%20%20%22noWrap%22%3A%20false%2C%0A%20%20%20%20%20%20%20%20%22opacity%22%3A%201%2C%0A%20%20%20%20%20%20%20%20%22subdomains%22%3A%20%22abc%22%2C%0A%20%20%20%20%20%20%20%20%22tms%22%3A%20false%0A%7D%29.addTo%28map_12292d8054e84d728958b1b1914b0ed9%29%3B%0A%20%20%20%20var%20tile_layer_0fdbcd4672434462ab402bf8da8bfc33%20%3D%20L.tileLayer%28%0A%20%20%20%20%20%20%20%20%27https%3A//earthengine.googleapis.com/v1alpha/projects/earthengine-legacy/maps/60afe1f61c94c4b2e45a7ef661e68cde-7942e362d420f0fa73d77ef3c0a019e1/tiles/%7Bz%7D/%7Bx%7D/%7By%7D%27%2C%0A%20%20%20%20%20%20%20%20%7B%0A%20%20%20%20%20%20%20%20%22attribution%22%3A%20%22Google%20Earth%20Engine%22%2C%0A%20%20%20%20%20%20%20%20%22detectRetina%22%3A%20false%2C%0A%20%20%20%20%20%20%20%20%22maxNativeZoom%22%3A%2018%2C%0A%20%20%20%20%20%20%20%20%22maxZoom%22%3A%2018%2C%0A%20%20%20%20%20%20%20%20%22minZoom%22%3A%200%2C%0A%20%20%20%20%20%20%20%20%22noWrap%22%3A%20false%2C%0A%20%20%20%20%20%20%20%20%22opacity%22%3A%201%2C%0A%20%20%20%20%20%20%20%20%22subdomains%22%3A%20%22abc%22%2C%0A%20%20%20%20%20%20%20%20%22tms%22%3A%20false%0A%7D%29.addTo%28map_12292d8054e84d728958b1b1914b0ed9%29%3B%0A%20%20%20%20var%20tile_layer_25ce58a02e6d43ebaf5c0fdd403668d1%20%3D%20L.tileLayer%28%0A%20%20%20%20%20%20%20%20%27https%3A//earthengine.googleapis.com/v1alpha/projects/earthengine-legacy/maps/8818ed5b2e3af9188e191b05665f9a15-e995cc20d54b9a78046ddfec2cdbc06f/tiles/%7Bz%7D/%7Bx%7D/%7By%7D%27%2C%0A%20%20%20%20%20%20%20%20%7B%0A%20%20%20%20%20%20%20%20%22attribution%22%3A%20%22Google%20Earth%20Engine%22%2C%0A%20%20%20%20%20%20%20%20%22detectRetina%22%3A%20false%2C%0A%20%20%20%20%20%20%20%20%22maxNativeZoom%22%3A%2018%2C%0A%20%20%20%20%20%20%20%20%22maxZoom%22%3A%2018%2C%0A%20%20%20%20%20%20%20%20%22minZoom%22%3A%200%2C%0A%20%20%20%20%20%20%20%20%22noWrap%22%3A%20false%2C%0A%20%20%20%20%20%20%20%20%22opacity%22%3A%201%2C%0A%20%20%20%20%20%20%20%20%22subdomains%22%3A%20%22abc%22%2C%0A%20%20%20%20%20%20%20%20%22tms%22%3A%20false%0A%7D%29.addTo%28map_12292d8054e84d728958b1b1914b0ed9%29%3B%0A%20%20%20%20%0A%20%20%20%20%20%20%20%20%20%20%20%20var%20layer_control_56f7eeb818d24b98b21600aad864574e%20%3D%20%7B%0A%20%20%20%20%20%20%20%20%20%20%20%20%20%20%20%20base_layers%20%3A%20%7B%20%22openstreetmap%22%20%3A%20tile_layer_747c9a3cc8a14dcca46c355f33d1544a%2C%20%7D%2C%0A%20%20%20%20%20%20%20%20%20%20%20%20%20%20%20%20overlays%20%3A%20%7B%20%22ndwi%22%20%3A%20tile_layer_d2d67c897477455ca0204bb7ce92a94c%2C%22water%22%20%3A%20tile_layer_0fdbcd4672434462ab402bf8da8bfc33%2C%22masked%20landsat%20image%22%20%3A%20tile_layer_25ce58a02e6d43ebaf5c0fdd403668d1%2C%20%7D%0A%20%20%20%20%20%20%20%20%20%20%20%20%20%20%20%20%7D%3B%0A%20%20%20%20%20%20%20%20%20%20%20%20L.control.layers%28%0A%20%20%20%20%20%20%20%20%20%20%20%20%20%20%20%20layer_control_56f7eeb818d24b98b21600aad864574e.base_layers%2C%0A%20%20%20%20%20%20%20%20%20%20%20%20%20%20%20%20layer_control_56f7eeb818d24b98b21600aad864574e.overlays%2C%0A%20%20%20%20%20%20%20%20%20%20%20%20%20%20%20%20%7Bposition%3A%20%27topright%27%2C%0A%20%20%20%20%20%20%20%20%20%20%20%20%20%20%20%20%20collapsed%3A%20true%2C%0A%20%20%20%20%20%20%20%20%20%20%20%20%20%20%20%20%20autoZIndex%3A%20true%0A%20%20%20%20%20%20%20%20%20%20%20%20%20%20%20%20%7D%29.addTo%28map_12292d8054e84d728958b1b1914b0ed9%29%3B%0A%20%20%20%20%20%20%20%20%20%20%20%20%0A%20%20%20%20%20%20%20%20%0A%3C/script%3E onload=\"this.contentDocument.open();this.contentDocument.write(    decodeURIComponent(this.getAttribute('data-html')));this.contentDocument.close();\" allowfullscreen webkitallowfullscreen mozallowfullscreen></iframe></div></div>"
            ],
            "text/plain": [
              "<folium.folium.Map at 0x7fdaeaed2e10>"
            ]
          },
          "metadata": {},
          "execution_count": 109
        }
      ]
    },
    {
      "cell_type": "code",
      "metadata": {
        "id": "0eeVKztBau6X"
      },
      "source": [
        ""
      ],
      "execution_count": null,
      "outputs": []
    }
  ]
}