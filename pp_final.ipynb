{
 "cells": [
  {
   "cell_type": "code",
   "execution_count": null,
   "id": "bc67fb93",
   "metadata": {
    "slideshow": {
     "slide_type": "skip"
    }
   },
   "outputs": [],
   "source": [
    "import ee\n",
    "import pandas as pd\n",
    "import numpy as np\n",
    "import xarray as xr\n",
    "import matplotlib.pyplot as plt\n",
    "import folium\n",
    "import geehydro\n",
    "\n",
    "ee.Authenticate()\n",
    "ee.Initialize()"
   ]
  },
  {
   "cell_type": "markdown",
   "id": "f539add6",
   "metadata": {
    "slideshow": {
     "slide_type": "slide"
    }
   },
   "source": [
    "# Primary Production in the Ocean and Links to Other Properties\n",
    "\n",
    "### Ed, Ashar, Sally & Jenny"
   ]
  },
  {
   "cell_type": "markdown",
   "id": "54fbcdf4",
   "metadata": {
    "slideshow": {
     "slide_type": "slide"
    }
   },
   "source": [
    "## Background\n",
    "\n"
   ]
  },
  {
   "cell_type": "markdown",
   "id": "3a73319d",
   "metadata": {
    "slideshow": {
     "slide_type": "slide"
    }
   },
   "source": [
    "## Approach\n",
    "\n",
    "- Aproximate PP as Chlorophyll - this is measureable and available in satellite measurements\n",
    "- GEE optical imagery to identify locations of unusual phytoplankton \n"
   ]
  },
  {
   "cell_type": "markdown",
   "id": "13f30f53",
   "metadata": {},
   "source": [
    "## Results"
   ]
  },
  {
   "cell_type": "markdown",
   "id": "4f1f7312",
   "metadata": {},
   "source": [
    "### Landsat 8: Optical and Classification of Phytoplakton bloom"
   ]
  },
  {
   "cell_type": "code",
   "execution_count": null,
   "id": "e5d38ec3",
   "metadata": {},
   "outputs": [],
   "source": [
    "# Ed's code"
   ]
  },
  {
   "cell_type": "markdown",
   "id": "4913f25b",
   "metadata": {},
   "source": [
    "### Modis Aqua: Chlorophyll and SST"
   ]
  },
  {
   "cell_type": "code",
   "execution_count": null,
   "id": "86d5eebf",
   "metadata": {},
   "outputs": [],
   "source": [
    "# Sally's code"
   ]
  },
  {
   "cell_type": "markdown",
   "id": "ca3c442e",
   "metadata": {},
   "source": [
    "### Modis Aqua: Chlorophyll "
   ]
  },
  {
   "cell_type": "code",
   "execution_count": null,
   "id": "25fc7ba6",
   "metadata": {},
   "outputs": [],
   "source": [
    "# Jenny's code"
   ]
  },
  {
   "cell_type": "markdown",
   "id": "b4f49797",
   "metadata": {},
   "source": [
    "### In Situ Comparison"
   ]
  },
  {
   "cell_type": "code",
   "execution_count": null,
   "id": "f57458b5",
   "metadata": {},
   "outputs": [],
   "source": [
    "# Ashar's code"
   ]
  },
  {
   "cell_type": "markdown",
   "id": "511f4695",
   "metadata": {},
   "source": [
    "## Conclusions"
   ]
  },
  {
   "cell_type": "markdown",
   "id": "d826c3a9",
   "metadata": {},
   "source": [
    "## Further work"
   ]
  },
  {
   "cell_type": "markdown",
   "id": "bb487247",
   "metadata": {},
   "source": [
    "# Thank you!\n",
    "\n",
    "### Any questions?"
   ]
  }
 ],
 "metadata": {
  "celltoolbar": "Slideshow",
  "kernelspec": {
   "display_name": "Python 3 (ipykernel)",
   "language": "python",
   "name": "python3"
  },
  "language_info": {
   "codemirror_mode": {
    "name": "ipython",
    "version": 3
   },
   "file_extension": ".py",
   "mimetype": "text/x-python",
   "name": "python",
   "nbconvert_exporter": "python",
   "pygments_lexer": "ipython3",
   "version": "3.9.7"
  }
 },
 "nbformat": 4,
 "nbformat_minor": 5
}
